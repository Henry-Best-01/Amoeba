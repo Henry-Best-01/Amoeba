{
 "cells": [
  {
   "cell_type": "markdown",
   "id": "50269355",
   "metadata": {},
   "source": [
    "# This is a notebook which describes Amoeba, a code which aims to model Quasar variability modularly."
   ]
  },
  {
   "cell_type": "markdown",
   "id": "d2a8bfde",
   "metadata": {},
   "source": [
    "It is modular in the sense that components may be added or removed and the full model can be built up from pieces. Not all AGN exhibit the same features, and this should be reflected within the model. Please contact Henry Best at HBest@gradcenter.cuny.edu for assistance / bug reports.\n",
    "\n",
    "At time of writing this notebook, the accretion disk object with lamp post contributions are functional. The inclusion of BLR scattering + contribution is in progress."
   ]
  },
  {
   "cell_type": "markdown",
   "id": "58a7d8a8",
   "metadata": {},
   "source": [
    "Dependencies: Numpy, Astropy, Scipy, Matplotlib, skimage\n",
    "\n",
    "Also: An external microlensing magnification map, which may be downloaded from the GERLUMPH database (https://gerlumph.swin.edu.au)\n",
    "\n",
    "\n",
    "For GR ray tracing: Sim5\n",
    "\n",
    "\n"
   ]
  },
  {
   "cell_type": "code",
   "execution_count": 1,
   "id": "4bd73c67",
   "metadata": {},
   "outputs": [
    {
     "ename": "OSError",
     "evalue": "'plot_style_large_font.txt' not found in the style library and input is not a valid URL or path; see `style.available` for list of available styles",
     "output_type": "error",
     "traceback": [
      "\u001b[0;31m---------------------------------------------------------------------------\u001b[0m",
      "\u001b[0;31mFileNotFoundError\u001b[0m                         Traceback (most recent call last)",
      "\u001b[0;32m/usr/local/lib/python3.9/site-packages/matplotlib/style/core.py\u001b[0m in \u001b[0;36muse\u001b[0;34m(style)\u001b[0m\n\u001b[1;32m    114\u001b[0m             \u001b[0;32mtry\u001b[0m\u001b[0;34m:\u001b[0m\u001b[0;34m\u001b[0m\u001b[0;34m\u001b[0m\u001b[0m\n\u001b[0;32m--> 115\u001b[0;31m                 \u001b[0mrc\u001b[0m \u001b[0;34m=\u001b[0m \u001b[0mrc_params_from_file\u001b[0m\u001b[0;34m(\u001b[0m\u001b[0mstyle\u001b[0m\u001b[0;34m,\u001b[0m \u001b[0muse_default_template\u001b[0m\u001b[0;34m=\u001b[0m\u001b[0;32mFalse\u001b[0m\u001b[0;34m)\u001b[0m\u001b[0;34m\u001b[0m\u001b[0;34m\u001b[0m\u001b[0m\n\u001b[0m\u001b[1;32m    116\u001b[0m                 \u001b[0m_apply_style\u001b[0m\u001b[0;34m(\u001b[0m\u001b[0mrc\u001b[0m\u001b[0;34m)\u001b[0m\u001b[0;34m\u001b[0m\u001b[0;34m\u001b[0m\u001b[0m\n",
      "\u001b[0;32m/usr/local/lib/python3.9/site-packages/matplotlib/__init__.py\u001b[0m in \u001b[0;36mrc_params_from_file\u001b[0;34m(fname, fail_on_error, use_default_template)\u001b[0m\n\u001b[1;32m    795\u001b[0m     \"\"\"\n\u001b[0;32m--> 796\u001b[0;31m     \u001b[0mconfig_from_file\u001b[0m \u001b[0;34m=\u001b[0m \u001b[0m_rc_params_in_file\u001b[0m\u001b[0;34m(\u001b[0m\u001b[0mfname\u001b[0m\u001b[0;34m,\u001b[0m \u001b[0mfail_on_error\u001b[0m\u001b[0;34m=\u001b[0m\u001b[0mfail_on_error\u001b[0m\u001b[0;34m)\u001b[0m\u001b[0;34m\u001b[0m\u001b[0;34m\u001b[0m\u001b[0m\n\u001b[0m\u001b[1;32m    797\u001b[0m \u001b[0;34m\u001b[0m\u001b[0m\n",
      "\u001b[0;32m/usr/local/lib/python3.9/site-packages/matplotlib/__init__.py\u001b[0m in \u001b[0;36m_rc_params_in_file\u001b[0;34m(fname, transform, fail_on_error)\u001b[0m\n\u001b[1;32m    724\u001b[0m     \u001b[0mrc_temp\u001b[0m \u001b[0;34m=\u001b[0m \u001b[0;34m{\u001b[0m\u001b[0;34m}\u001b[0m\u001b[0;34m\u001b[0m\u001b[0;34m\u001b[0m\u001b[0m\n\u001b[0;32m--> 725\u001b[0;31m     \u001b[0;32mwith\u001b[0m \u001b[0m_open_file_or_url\u001b[0m\u001b[0;34m(\u001b[0m\u001b[0mfname\u001b[0m\u001b[0;34m)\u001b[0m \u001b[0;32mas\u001b[0m \u001b[0mfd\u001b[0m\u001b[0;34m:\u001b[0m\u001b[0;34m\u001b[0m\u001b[0;34m\u001b[0m\u001b[0m\n\u001b[0m\u001b[1;32m    726\u001b[0m         \u001b[0;32mtry\u001b[0m\u001b[0;34m:\u001b[0m\u001b[0;34m\u001b[0m\u001b[0;34m\u001b[0m\u001b[0m\n",
      "\u001b[0;32m/usr/local/Cellar/python@3.9/3.9.9/Frameworks/Python.framework/Versions/3.9/lib/python3.9/contextlib.py\u001b[0m in \u001b[0;36m__enter__\u001b[0;34m(self)\u001b[0m\n\u001b[1;32m    118\u001b[0m         \u001b[0;32mtry\u001b[0m\u001b[0;34m:\u001b[0m\u001b[0;34m\u001b[0m\u001b[0;34m\u001b[0m\u001b[0m\n\u001b[0;32m--> 119\u001b[0;31m             \u001b[0;32mreturn\u001b[0m \u001b[0mnext\u001b[0m\u001b[0;34m(\u001b[0m\u001b[0mself\u001b[0m\u001b[0;34m.\u001b[0m\u001b[0mgen\u001b[0m\u001b[0;34m)\u001b[0m\u001b[0;34m\u001b[0m\u001b[0;34m\u001b[0m\u001b[0m\n\u001b[0m\u001b[1;32m    120\u001b[0m         \u001b[0;32mexcept\u001b[0m \u001b[0mStopIteration\u001b[0m\u001b[0;34m:\u001b[0m\u001b[0;34m\u001b[0m\u001b[0;34m\u001b[0m\u001b[0m\n",
      "\u001b[0;32m/usr/local/lib/python3.9/site-packages/matplotlib/__init__.py\u001b[0m in \u001b[0;36m_open_file_or_url\u001b[0;34m(fname)\u001b[0m\n\u001b[1;32m    702\u001b[0m             \u001b[0mencoding\u001b[0m \u001b[0;34m=\u001b[0m \u001b[0;34m\"utf-8\"\u001b[0m\u001b[0;34m\u001b[0m\u001b[0;34m\u001b[0m\u001b[0m\n\u001b[0;32m--> 703\u001b[0;31m         \u001b[0;32mwith\u001b[0m \u001b[0mopen\u001b[0m\u001b[0;34m(\u001b[0m\u001b[0mfname\u001b[0m\u001b[0;34m,\u001b[0m \u001b[0mencoding\u001b[0m\u001b[0;34m=\u001b[0m\u001b[0mencoding\u001b[0m\u001b[0;34m)\u001b[0m \u001b[0;32mas\u001b[0m \u001b[0mf\u001b[0m\u001b[0;34m:\u001b[0m\u001b[0;34m\u001b[0m\u001b[0;34m\u001b[0m\u001b[0m\n\u001b[0m\u001b[1;32m    704\u001b[0m             \u001b[0;32myield\u001b[0m \u001b[0mf\u001b[0m\u001b[0;34m\u001b[0m\u001b[0;34m\u001b[0m\u001b[0m\n",
      "\u001b[0;31mFileNotFoundError\u001b[0m: [Errno 2] No such file or directory: 'plot_style_large_font.txt'",
      "\nThe above exception was the direct cause of the following exception:\n",
      "\u001b[0;31mOSError\u001b[0m                                   Traceback (most recent call last)",
      "\u001b[0;32m<ipython-input-1-7db63a233d77>\u001b[0m in \u001b[0;36m<module>\u001b[0;34m\u001b[0m\n\u001b[1;32m     10\u001b[0m \u001b[0;32mimport\u001b[0m \u001b[0msys\u001b[0m\u001b[0;34m\u001b[0m\u001b[0;34m\u001b[0m\u001b[0m\n\u001b[1;32m     11\u001b[0m \u001b[0msys\u001b[0m\u001b[0;34m.\u001b[0m\u001b[0mpath\u001b[0m\u001b[0;34m.\u001b[0m\u001b[0mappend\u001b[0m\u001b[0;34m(\u001b[0m\u001b[0;34m\"\"\u001b[0m\u001b[0;34m)\u001b[0m   \u001b[0;31m#append path to where QMF and Amoeba files are stored if elsewhere\u001b[0m\u001b[0;34m\u001b[0m\u001b[0;34m\u001b[0m\u001b[0m\n\u001b[0;32m---> 12\u001b[0;31m \u001b[0mplt\u001b[0m\u001b[0;34m.\u001b[0m\u001b[0mstyle\u001b[0m\u001b[0;34m.\u001b[0m\u001b[0muse\u001b[0m\u001b[0;34m(\u001b[0m\u001b[0;34m\"plot_style_large_font.txt\"\u001b[0m\u001b[0;34m)\u001b[0m\u001b[0;34m\u001b[0m\u001b[0;34m\u001b[0m\u001b[0m\n\u001b[0m\u001b[1;32m     13\u001b[0m \u001b[0;32mimport\u001b[0m \u001b[0mQuasarModelFunctions\u001b[0m \u001b[0;32mas\u001b[0m \u001b[0mQMF\u001b[0m\u001b[0;34m\u001b[0m\u001b[0;34m\u001b[0m\u001b[0m\n\u001b[1;32m     14\u001b[0m \u001b[0;32mimport\u001b[0m \u001b[0mAmoeba\u001b[0m\u001b[0;34m\u001b[0m\u001b[0;34m\u001b[0m\u001b[0m\n",
      "\u001b[0;32m/usr/local/lib/python3.9/site-packages/matplotlib/style/core.py\u001b[0m in \u001b[0;36muse\u001b[0;34m(style)\u001b[0m\n\u001b[1;32m    116\u001b[0m                 \u001b[0m_apply_style\u001b[0m\u001b[0;34m(\u001b[0m\u001b[0mrc\u001b[0m\u001b[0;34m)\u001b[0m\u001b[0;34m\u001b[0m\u001b[0;34m\u001b[0m\u001b[0m\n\u001b[1;32m    117\u001b[0m             \u001b[0;32mexcept\u001b[0m \u001b[0mIOError\u001b[0m \u001b[0;32mas\u001b[0m \u001b[0merr\u001b[0m\u001b[0;34m:\u001b[0m\u001b[0;34m\u001b[0m\u001b[0;34m\u001b[0m\u001b[0m\n\u001b[0;32m--> 118\u001b[0;31m                 raise IOError(\n\u001b[0m\u001b[1;32m    119\u001b[0m                     \u001b[0;34m\"{!r} not found in the style library and input is not a \"\u001b[0m\u001b[0;34m\u001b[0m\u001b[0;34m\u001b[0m\u001b[0m\n\u001b[1;32m    120\u001b[0m                     \u001b[0;34m\"valid URL or path; see `style.available` for list of \"\u001b[0m\u001b[0;34m\u001b[0m\u001b[0;34m\u001b[0m\u001b[0m\n",
      "\u001b[0;31mOSError\u001b[0m: 'plot_style_large_font.txt' not found in the style library and input is not a valid URL or path; see `style.available` for list of available styles"
     ]
    }
   ],
   "source": [
    "import numpy as np\n",
    "import numpy.random as random\n",
    "from astropy.io import fits\n",
    "import astropy.constants as const\n",
    "import astropy.units as u\n",
    "from astropy.nddata import block_reduce\n",
    "from scipy import signal\n",
    "from scipy.interpolate import UnivariateSpline\n",
    "import matplotlib.pyplot as plt\n",
    "import sys\n",
    "sys.path.append(\"\")   #append path to where QMF and Amoeba files are stored if elsewhere\n",
    "plt.style.use(\"plot_style_large_font.txt\")\n",
    "import QuasarModelFunctions as QMF\n",
    "import Amoeba\n",
    "\n",
    "example_disk_path = 'SampleDisks/8.0MsunSample.fits'\n",
    "example_mag_map_path = \"SampleMagMap/map.fits\"          # Insert a path to a magnification map"
   ]
  },
  {
   "cell_type": "markdown",
   "id": "38f5fceb",
   "metadata": {},
   "source": [
    "We will go down the list on the file QuasarModelFunctions, which hosts a majority of the code. First we will look at the dependence spin has on the ISCO, the innermost stable circular orbit within the Kerr metric."
   ]
  },
  {
   "cell_type": "code",
   "execution_count": null,
   "id": "0f26ae07",
   "metadata": {},
   "outputs": [],
   "source": [
    "spins = np.linspace(-0.99, 0.99, 500)\n",
    "r_isco = QMF.SpinToISCO(spins)\n",
    "\n",
    "fig, ax = plt.subplots(figsize=(10,6))\n",
    "ax.plot(spins, r_isco)\n",
    "ax.set_xlabel(\"dimensionless spin of black hole\")\n",
    "ax.set_ylabel(r\"ISCO radius [$R_{\\rm g}$]\")\n",
    "ax.plot([-1, 1], [6,6], '-.', color='black')\n",
    "plt.show()"
   ]
  },
  {
   "cell_type": "markdown",
   "id": "4e568fe3",
   "metadata": {},
   "source": [
    "The horizontal line represents the Schwarzschild case for a spinless black hole. Negative values of spin represent a black hole with angular momentum in the opposite direction with respect to the accreted material, while positive values of spin represent alligned angular momentum"
   ]
  },
  {
   "cell_type": "markdown",
   "id": "a795acac",
   "metadata": {},
   "source": [
    "Next is the convenience function \"EddingtonRatioToMDot\", which calculates the accreted material in physical units under the assumption of a specified Eddington ratio with respect to the Eddington luminosity.\n",
    "\n",
    "The Eddington luminosity is the theoretical limit which balances out gravitational pull against radiation pressure assuming protons are infalling via Bondi accretion. It creates a convenient metric to describe accretion, but this is not a true limit. "
   ]
  },
  {
   "cell_type": "code",
   "execution_count": null,
   "id": "576bf679",
   "metadata": {},
   "outputs": [],
   "source": [
    "BHmass = 10 ** 8.0 * const.M_sun.to(u.kg)\n",
    "eddingtons = 0.15\n",
    "accreted_material = QMF.EddingtonRatioToMDot(BHmass, eddingtons)\n",
    "print(\"Black hole mass = \", BHmass)\n",
    "print(\"Eddington ratio = \", eddingtons)\n",
    "print(\"Accreted material = \", accreted_material)\n",
    "print(\"or alternatively,\", (accreted_material/const.M_sun.to(u.kg)*u.yr.to(u.s)).value, \"M_sun / year\")"
   ]
  },
  {
   "cell_type": "markdown",
   "id": "59c6046b",
   "metadata": {},
   "source": [
    "We see that about 1/3rd of a solar mass is required to be accreted per year to power the accretion disk at 15% of the Eddington limit for a $10^{8}$ solar mass black hole."
   ]
  },
  {
   "cell_type": "markdown",
   "id": "6304239d",
   "metadata": {},
   "source": [
    "Radial temperature profiles can be constructed using the \"AccDiskTemp\" function. The basic temperature profile is the Shakura-Sunyaev thin disk profile (Shakura+Sunyaev, 1973), and the function provided allows us to smoothly transition to both irradiated disk models (Cackett+ 2007) and disk wind models (Sun+ 2018). By default, a thin disk profile will be constructed. There are a few terms here, so I will outline them now.\n",
    "\n",
    "R is the position at which we are evaluating the temperature, regardless of the model.\n",
    "\n",
    "R_min is the inner bound of the accretion disk, usually taken to be the ISCO.\n",
    "\n",
    "M is the mass of the central black hole.\n",
    "\n",
    "M_acc is the accreted mass through the accretion disk.\n",
    "\n",
    "Each of these terms are always required, and are assumed in MKS units.\n",
    "\n",
    "Terms for the irradiated disk model are:\n",
    "\n",
    "coronaheight, the height of the central lamp post irradiating the accretion disk. This is assumed to be input in gravitational radii.\n",
    "\n",
    "albedo, the reflectivity of the accretion disk with respect to irradiating x-ray sources. This is a dimensionless value between 0 and 1, where 0 is perfect absorption (leading to heating up the disk), and 1 is perfect reflection (no heat energy is transfered to the disk).\n",
    "\n",
    "eta, the efficiency of the x-ray emitter with respect to the Eddington luminosity. This parameter is essentially the Eddington ratio for the corona.\n",
    "\n",
    "Terms for the disk wind model are:\n",
    "\n",
    "beta, the strength of the wind. In general, stronger winds are believed to remove material from the accreiton disk causing higher accretion rates further out in the disk than expected. \n",
    "\n",
    "genericbeta, a toggle if the user instead wishes to use beta as the asymptotic temperature slope instead of the physically motivated wind parameter.\n",
    "\n",
    "One last convenience term is \"eddingtons\", which if given a value, will calculate the required accreted material in order to produce this Eddington ratio.\n"
   ]
  },
  {
   "cell_type": "code",
   "execution_count": null,
   "id": "7c38f5ad",
   "metadata": {},
   "outputs": [],
   "source": [
    "grav_rad = QMF.CalcRg(BHmass)\n",
    "radii = np.linspace(1, 1000, 50000)\n",
    "ISCO = 6 * grav_rad\n",
    "beta = 0.25\n",
    "lamp_height = 10\n",
    "eta = 0.2\n",
    "\n",
    "thindiskprofile = QMF.AccDiskTemp(radii*grav_rad, ISCO, BHmass, 982374598237, eddingtons=0.15) \n",
    "                    # large random number \"982374598237\" will get overridden\n",
    "    \n",
    "sample_irr_disk = QMF.AccDiskTemp(radii*grav_rad, ISCO, BHmass, 982374598237, \n",
    "                                  coronaheight=lamp_height, albedo=0, eta=eta, eddingtons=0.15)\n",
    "sample_diskwind = QMF.AccDiskTemp(radii*grav_rad, ISCO, BHmass, 982374598237, \n",
    "                                  beta=beta, eddingtons=0.15)\n",
    "\n",
    "fig, ax = plt.subplots(figsize=(10, 6))\n",
    "ax.plot(np.log10(radii), np.log10(thindiskprofile), label=\"Thin disk\")\n",
    "ax.plot(np.log10(radii), np.log10(sample_irr_disk), label=\"Irradiated disk\")\n",
    "ax.plot(np.log10(radii), np.log10(sample_diskwind), label=\"Disk wind\")\n",
    "ax.set_xlabel(r\"log$_{10}$ (R/$R_{\\rm g}$)\")\n",
    "ax.set_ylabel(r\"log$_{10}$ (T)\")\n",
    "ax.text(1, 4, \"Thin disk / Irr. disk asymptotic slope = 0.75\", fontsize=14)\n",
    "ax.text(1, 3.9, r\"Disk wind asymptotic slope = \"+str((3 - 4 * beta)/4)+r\" for $\\beta$ = \"+str(beta), fontsize=14)\n",
    "ax.text(1, 3.7, r\"Max Irr. disk temp = 10$^{\"+str(np.log10(np.max((sample_irr_disk))))[:5]+r\"}$ K\"+\"\\n\"+r\" for $\\eta$ = \"+str(eta)+ \" and corona height = \"+ str(lamp_height) +r\" $R_{\\rm g}$\", fontsize=14)\n",
    "\n",
    "plt.legend()\n",
    "plt.show()"
   ]
  },
  {
   "cell_type": "markdown",
   "id": "d113b8f9",
   "metadata": {},
   "source": [
    "Due to the amount of parameters, this profile is quite flexible. The calculation is vectorized leading to rapid calculations even for many points."
   ]
  },
  {
   "cell_type": "markdown",
   "id": "5ca94c88",
   "metadata": {},
   "source": [
    "The connection between temperature and luminosity is assumed to be black body radiation, given through the Planck formula. The function \"PlanckLaw\" takes two inputs, a temperature in Kelvins, and a wavelength which is assumed to be in nanometers. This choice was made as it's convenient for UV, optical, and IR emissions, where the accretion disk tends to dominate the quasar's power."
   ]
  },
  {
   "cell_type": "code",
   "execution_count": null,
   "id": "ed924973",
   "metadata": {},
   "outputs": [],
   "source": [
    "const_lam = 500\n",
    "const_temp = 1200\n",
    "maxlam = 20000\n",
    "\n",
    "temperatures = np.linspace(1, 50000, int(1e6))\n",
    "wavelengths = np.linspace(1, maxlam, int(1e6))\n",
    "brightnesses = QMF.PlanckLaw(temperatures, const_lam)\n",
    "spectra500 = QMF.PlanckLaw(500, wavelengths)\n",
    "spectra700 = QMF.PlanckLaw(700, wavelengths)\n",
    "spectra1000 = QMF.PlanckLaw(1000, wavelengths)\n",
    "spectraconst = QMF.PlanckLaw(const_temp, wavelengths)\n",
    "\n",
    "fig, ax = plt.subplots(2, figsize=(12, 8))\n",
    "ax[0].plot(temperatures, brightnesses)\n",
    "ax[1].plot(wavelengths, spectra500, label='Temp = 500 K')\n",
    "ax[1].plot(wavelengths, spectra700, label='Temp = 700 K')\n",
    "ax[1].plot(wavelengths, spectra1000, label='Temp = 1000 K')\n",
    "ax[1].plot(wavelengths, spectraconst, label='Temp = '+str(const_temp)+' K')\n",
    "ax[1].set_ylim(0, np.max(spectra1000)/2)\n",
    "\n",
    "ax[0].set_xlabel(\"T [K]\")\n",
    "ax[1].set_xlabel(r\"$\\lambda$ [nm]\")\n",
    "ax[0].text(0, 0.8*np.max(brightnesses), r\"$\\lambda$ = \"+str(const_lam)+\" nm\", fontsize=16)\n",
    "#ax[1].text(0.5*maxlam, 0.8*np.max(spectra1000), \"Constant temp = \"+str(const_temp)+\" K\", fontsize=16)\n",
    "ax[1].legend()\n",
    "fig.supylabel(\"spectral radiance [W sr$^{-1}$ m$^{-3}$]\", fontsize=24)\n",
    "plt.subplots_adjust(hspace=0.35, right=0.85)\n",
    "plt.show()"
   ]
  },
  {
   "cell_type": "markdown",
   "id": "f44bad3a",
   "metadata": {},
   "source": [
    "Note that these axes are on large scales, due to the radiance being calculated in MKS units. This is a flux density that passes through some solid angle. True fluxes will appear smaller as these are expressed per meter, as opposed to per nanometer or angstrom."
   ]
  },
  {
   "cell_type": "markdown",
   "id": "e77f5a5d",
   "metadata": {},
   "source": [
    "Planck's law will usually be applied to the accretion disk temperature profile, so we can combine the two to create a radial surface birghtness profile."
   ]
  },
  {
   "cell_type": "code",
   "execution_count": null,
   "id": "b5eb7847",
   "metadata": {},
   "outputs": [],
   "source": [
    "sim_wavelength = 400 #nm\n",
    "temp_profile = thindiskprofile\n",
    "sb_profile = QMF.PlanckLaw(temp_profile, sim_wavelength)\n",
    "half_rad = np.sum(radii*sb_profile) / 2\n",
    "for kk in range(len(radii)):\n",
    "    if np.sum(radii[:kk]*sb_profile[:kk]) > half_rad:\n",
    "        index = kk\n",
    "        break\n",
    "\n",
    "fig, ax = plt.subplots(figsize=(10,6))\n",
    "ax.plot(np.log10(radii), sb_profile)\n",
    "ax.text(0.45*np.log10(len(radii)), 0.9*np.max(sb_profile), r\"$\\lambda$ = \"+str(sim_wavelength)+r\"nm\", fontsize=16)\n",
    "ax.text(0.4*np.log10(len(radii)), 0.8*np.max(sb_profile), r\"max flux at R = \"+str(radii[np.argmax(sb_profile)])[:5]+r\"$R_{\\rm g}$\", fontsize=16)\n",
    "ax.text(0.4*np.log10(len(radii)), 0.7*np.max(sb_profile), r\"half light radius = \"+str(radii[index])[:5]+r\"$R_{\\rm g}$\", fontsize=16)\n",
    "ax.set_xlabel(r\"log$_{10}$ (R /$R_{\\rm g}$)\")\n",
    "ax.set_ylabel(\"spectral radiance [W sr$^{-1}$ m$^{-3}$]\")\n",
    "plt.show()\n"
   ]
  },
  {
   "cell_type": "markdown",
   "id": "a6fa9f70",
   "metadata": {},
   "source": [
    "The peak flux density will always peak at the point of maximum temperature, but the half light radius will depend on the wavelength evaluated at."
   ]
  },
  {
   "cell_type": "markdown",
   "id": "e790d664",
   "metadata": {},
   "source": [
    "A value which is important for calculating the response of the disk by some external stimulus is the derivative of Planck's law. It is numerically calculated in the approximation that temperature is increased by 1 Kelvin, which is almost always a safe approximation for the effective temperatures of the accretion disk."
   ]
  },
  {
   "cell_type": "code",
   "execution_count": null,
   "id": "36cc455d",
   "metadata": {},
   "outputs": [],
   "source": [
    "sim_wavelength = 400 #nm\n",
    "temp_profile = thindiskprofile\n",
    "sb_profile = QMF.PlanckDerivative(temp_profile, sim_wavelength)\n",
    "\n",
    "fig, ax = plt.subplots(figsize=(10,6))\n",
    "ax.plot(np.log10(radii), sb_profile)\n",
    "ax.set_xlabel(r\"log$_{10}$ (R /$R_{\\rm g}$)\")\n",
    "ax.set_ylabel(\"spectral response [W sr$^{-1}$ m$^{-3}$ K$^{-1}$]\")\n",
    "plt.show()"
   ]
  },
  {
   "cell_type": "markdown",
   "id": "e8582eef",
   "metadata": {},
   "source": [
    "It is immediately apparent that this curve is wider for accretion disks than the spectral radiance, and will lead to the structure of response functions later in this notebook."
   ]
  },
  {
   "cell_type": "markdown",
   "id": "b09f9715",
   "metadata": {},
   "source": [
    "A few functions for calculating distances in flat cosmology are included, such as angular diameter distance, angular diameter distance difference, and luminosity distance. One classic example is the turnover for angular diameter distance."
   ]
  },
  {
   "cell_type": "code",
   "execution_count": null,
   "id": "5359d366",
   "metadata": {},
   "outputs": [],
   "source": [
    "Omega_0 = 0.3 # mass percentage of universe\n",
    "Omega_lam = 0.7 # energy percentage of universe\n",
    "little_h = 0.7 # H0 / (100 km/s/Mpc)\n",
    "\n",
    "redshifts = np.linspace(0, 6, 100)\n",
    "ang_diameters = np.zeros(np.shape(redshifts))\n",
    "for rs in range(len(redshifts)):\n",
    "    ang_diameters[rs] = QMF.CalcAngDiamDist(redshifts[rs], Om0 = Omega_0, OmL = Omega_lam, little_h = little_h).value\n",
    "\n",
    "    \n",
    "fig, ax = plt.subplots(figsize=(10,4))\n",
    "ax.plot(redshifts, ang_diameters)\n",
    "ax.set_xlabel(r\"$z_{s}$\")\n",
    "ax.set_ylabel(\"Ang. Diameter Dist. [m]\")\n",
    "ax.text(0.3*np.max(redshifts), 0.3*np.max(ang_diameters), r\"turnover at $z_{s}$ = \"+str(redshifts[np.argmax(ang_diameters)])[:4], fontsize=16)\n",
    "plt.show()\n",
    "        "
   ]
  },
  {
   "cell_type": "code",
   "execution_count": null,
   "id": "f842890d",
   "metadata": {},
   "outputs": [],
   "source": [
    "Omega_0 = 0.3 # mass percentage of universe\n",
    "Omega_lam = 0.7 # energy percentage of universe\n",
    "little_h = 0.7 # H0 / (100 km/s/Mpc)\n",
    "z1 = 0.4\n",
    "\n",
    "redshifts = np.linspace(z1, 6, 100)\n",
    "ang_dia_diffs = np.zeros(np.shape(redshifts))\n",
    "for rs in range(len(redshifts)):\n",
    "    ang_dia_diffs[rs] = QMF.CalcAngDiamDistDiff(z1, redshifts[rs], Om0 = Omega_0, OmL = Omega_lam, little_h = little_h).value\n",
    "\n",
    "    \n",
    "fig, ax = plt.subplots(figsize=(10,6))\n",
    "ax.plot(redshifts, ang_dia_diffs)\n",
    "ax.set_xlabel(r\"$z_{s}$\")\n",
    "ax.set_ylabel(\"Ang. Diameter Dist. Diff. [m]\")\n",
    "plt.show()"
   ]
  },
  {
   "cell_type": "markdown",
   "id": "7fc80d9b",
   "metadata": {},
   "source": [
    "Luminosity distances can be used to scale emission simulations to cosmological distances"
   ]
  },
  {
   "cell_type": "code",
   "execution_count": null,
   "id": "a46a97c3",
   "metadata": {},
   "outputs": [],
   "source": [
    "Omega_0 = 0.3 # mass percentage of universe\n",
    "Omega_lam = 0.7 # energy percentage of universe\n",
    "little_h = 0.7 # H0 / (100 km/s/Mpc)\n",
    "\n",
    "redshifts = np.linspace(0, 6, 100)\n",
    "lum_dist = np.zeros(np.shape(redshifts))\n",
    "for rs in range(len(redshifts)):\n",
    "    lum_dist[rs] = QMF.CalcLumDist(redshifts[rs], Om0 = Omega_0, OmL = Omega_lam, little_h = little_h).value\n",
    "\n",
    "    \n",
    "fig, ax = plt.subplots(figsize=(10,4))\n",
    "ax.plot(redshifts, lum_dist)\n",
    "ax.set_xlabel(r\"$z_{s}$\")\n",
    "ax.set_ylabel(\"Lum. Dist. [m]\")\n",
    "plt.show()"
   ]
  },
  {
   "cell_type": "markdown",
   "id": "e099b71f",
   "metadata": {},
   "source": [
    "Unlike diameter distances, the luminosity distance does not have a turnover point."
   ]
  },
  {
   "cell_type": "markdown",
   "id": "9763555d",
   "metadata": {},
   "source": [
    "An important quantity in microlensing is the Einstein radius, which depends on the lens and source positions. Cosmology also effects this as the angular diameter distances are used."
   ]
  },
  {
   "cell_type": "code",
   "execution_count": null,
   "id": "7518570b",
   "metadata": {},
   "outputs": [],
   "source": [
    "z_lens = 0.5\n",
    "z_s = np.linspace(z_lens, 6, 100)\n",
    "m_lens = const.M_sun.to(u.kg)\n",
    "\n",
    "ein_rad = np.zeros(np.shape(z_s))\n",
    "for rs in range(len(z_s)):\n",
    "    ein_rad[rs] = QMF.CalcRe(z_lens, z_s[rs], M_lens=m_lens) * QMF.CalcAngDiamDist(z_s[rs]).value\n",
    "            # Note QMF.CalcRe() will calculate an angle in radians, so it must be multiplied by the distance\n",
    "fig, ax = plt.subplots(figsize=(10,4))\n",
    "ax.plot(z_s, ein_rad)\n",
    "ax.set_xlabel(r\"$z_{s}$\")\n",
    "ax.set_ylabel(r\"$R_{\\rm E}$ [m]\")\n",
    "ax.text(0.3 * (np.max(z_s)-np.min(z_s)) + np.min(z_s), 0.2 * np.max(ein_rad), r\"$z_{l}$ = \"+str(z_lens), fontsize=20)\n",
    "plt.show()\n",
    "                "
   ]
  },
  {
   "cell_type": "markdown",
   "id": "db4fc730",
   "metadata": {},
   "source": [
    "Like with other angular diameter distances, this experiences a turnover as well. The Einstein radius determines the scale which microlensing probes most effectively at. "
   ]
  },
  {
   "cell_type": "markdown",
   "id": "cee21901",
   "metadata": {},
   "source": [
    "We do not provide magnification maps in the source plane, so this must be obtained elsewhere through inverse ray shooting methods or other similar procedures. With the representative map of magnifications, we can explore the convolution between an accretion disk surface brightness image and the magnifications due to microlensing"
   ]
  },
  {
   "cell_type": "markdown",
   "id": "4d57e036",
   "metadata": {},
   "source": [
    "Set up a generic surface brightness map"
   ]
  },
  {
   "cell_type": "code",
   "execution_count": null,
   "id": "4f6c9467",
   "metadata": {},
   "outputs": [],
   "source": [
    "x = np.linspace(-1000, 1000, 2001)\n",
    "y = np.linspace(-1000, 1000, 2001)\n",
    "X, Y = np.meshgrid(x, y)\n",
    "radii = (X**2 + Y**2)**0.5       \n",
    "mass = 10**8.0*const.M_sun.to(u.kg)\n",
    "grav_rad = QMF.CalcRg(mass)\n",
    "temp_map = QMF.AccDiskTemp(radii*grav_rad, 6*grav_rad, mass, 7234, eddingtons=0.15) # accretion of 7234 is overridden\n",
    "sb_map = QMF.PlanckLaw(temp_map, 600)\n",
    "\n",
    "fig, ax = plt.subplots(1,3,figsize=(12, 6))\n",
    "c1 = ax[0].contourf(X, Y, radii)\n",
    "c2 = ax[1].contourf(X, Y, temp_map)\n",
    "c3 = ax[2].contourf(X, Y, sb_map)\n",
    "cbar1 = plt.colorbar(c1, ax=ax[0], location='top', label=r'R [$R_{\\rm g}$]')\n",
    "cbar2 = plt.colorbar(c2, ax=ax[1], location='top', label='T [K]')\n",
    "cbar3 = plt.colorbar(c3, ax=ax[2], location='top', label=r'B [W sr$^{-1}$ m$^{-3}$]')\n",
    "cbar1.ax.tick_params(rotation=45)\n",
    "cbar2.ax.tick_params(rotation=45)\n",
    "cbar3.ax.tick_params(rotation=45)\n",
    "ax[0].set_ylabel(r\"y [$R_{\\rm g}$]\")\n",
    "ax[1].set_xlabel(r\"x, [$R_{\\rm g}$]\")\n",
    "for axis in ax:\n",
    "    axis.set_aspect(1)\n",
    "plt.show()"
   ]
  },
  {
   "cell_type": "markdown",
   "id": "e15dcc33",
   "metadata": {},
   "source": [
    "The first image is just the radial distances to all positions on the source plane. The second image shows a few contours of temperature, while the third image shows the spectral radiance of the disk around 600 nm which is proportional to observed flux."
   ]
  },
  {
   "cell_type": "code",
   "execution_count": null,
   "id": "b0f336b8",
   "metadata": {},
   "outputs": [],
   "source": [
    "mag_map_path = example_mag_map_path\n",
    "\n",
    "with fits.open(mag_map_path) as f:\n",
    "    mag_map = f[0].data\n",
    "\n",
    "fig, ax = plt.subplots(figsize=(8,8))\n",
    "ax.imshow(mag_map, cmap='plasma')\n",
    "# magnification map image, contours are extremely thin so it's difficult to see by eye.\n",
    "plt.show()"
   ]
  },
  {
   "cell_type": "markdown",
   "id": "9c70b821",
   "metadata": {},
   "source": [
    "The funciton \"ConvolveMaps\" can be used to make the convolution between the magnification map and the surface brightness map. Inputs are as follows:\n",
    "\n",
    "MagMap is the magnification map\n",
    "\n",
    "disk is the image of the disk in the source plane\n",
    "\n",
    "redshift_lens is the redshift of the microlenses \n",
    "\n",
    "redshift_source is the redshift of the source\n",
    "\n",
    "mass_exp is log_10(M_BH/M_sun)\n",
    "\n",
    "mlens is the microlens mass\n",
    "\n",
    "nmapERs is the number of Einstein radii the magnification map covers on each side\n",
    "\n",
    "numGRs is the number of gravitational radii the disk image is\n",
    "\n",
    "rotation is an angular rotation given to the accretion disk in the source plane, especially interesting for inclined accretion disks (in degrees)\n",
    "\n",
    "verbose is a toggle to keep track of each step in the process\n",
    "\n",
    "returnmag2d allows the magnificaiton map to be returned as well"
   ]
  },
  {
   "cell_type": "code",
   "execution_count": null,
   "id": "d5638789",
   "metadata": {},
   "outputs": [],
   "source": [
    "convolution, px_size, px_shift = QMF.ConvolveMaps(mag_map, sb_map, numGRs=2000)\n",
    "\n",
    "print(\"The pixel sizes are : \", px_size)\n",
    "print(\"The pixel shift due to the convolution is : \", px_shift, \"pixels\")\n",
    "fig, ax = plt.subplots(figsize=(8,8))\n",
    "ax.imshow(convolution, cmap='plasma')   \n",
    "# convolution appears brighter because contours become more spaced out, therefore visible to the eye\n",
    "plt.show()"
   ]
  },
  {
   "cell_type": "markdown",
   "id": "c6fc5b67",
   "metadata": {},
   "source": [
    "Depending on the size of the accretion disk, there is a region near the edges we must not use to avoid convolution artifacts. \n",
    "\n",
    "From this map, we can pull random light curves using PullLC function."
   ]
  },
  {
   "cell_type": "code",
   "execution_count": null,
   "id": "3b2ddef4",
   "metadata": {},
   "outputs": [],
   "source": [
    "v_trans = 500 # km/s in source plane\n",
    "time = 20 # years\n",
    "np.random.seed(1)\n",
    "\n",
    "LCs = []\n",
    "tracks = []\n",
    "\n",
    "for jj in range(8):\n",
    "    curve, track = QMF.PullLC(convolution, px_size, v_trans, time, px_shift=px_shift, returntrack=True)\n",
    "    LCs.append(curve)\n",
    "    tracks.append(track)\n",
    "\n",
    "fig, ax = plt.subplots(figsize=(12, 6))\n",
    "for jj in range(len(LCs)):\n",
    "    ax.plot(LCs[jj], label=str(jj+1))\n",
    "ax.legend()\n",
    "plt.show()\n",
    "\n",
    "\n"
   ]
  },
  {
   "cell_type": "markdown",
   "id": "d82084b4",
   "metadata": {},
   "source": [
    "To show where these came from, we may plot the tracks on the convolution"
   ]
  },
  {
   "cell_type": "code",
   "execution_count": null,
   "id": "93d74337",
   "metadata": {},
   "outputs": [],
   "source": [
    "x = np.linspace(0, 25, 10000)  # Convert axes to units R_g\n",
    "y = np.linspace(0, 25, 10000)\n",
    "X, Y = np.meshgrid(x, y)\n",
    "\n",
    "fig, ax = plt.subplots(figsize=(8,8))\n",
    "ax.contourf(X, Y, convolution, cmap='plasma')\n",
    "for jj in range(len(tracks)):\n",
    "    ax.plot(tracks[jj][1]/400, tracks[jj][0]/400, color='white')\n",
    "    ax.text(tracks[jj][1][0]/400, tracks[jj][0][0]/400, str(jj+1), color='white', fontsize=16)\n",
    "ax.set_xlabel(r\"x [$R_{\\rm E}$]\")\n",
    "ax.set_ylabel(r\"y [$R_{\\rm E}$]\")\n",
    "\n",
    "plt.show()"
   ]
  },
  {
   "cell_type": "markdown",
   "id": "152bbbd1",
   "metadata": {},
   "source": [
    "For reproducability, a random seed may be set."
   ]
  },
  {
   "cell_type": "markdown",
   "id": "207cffdb",
   "metadata": {},
   "source": [
    "Going back to the accretion disk itself, the lamp post model predicts time lags to be dominated by the light travel time between the x-ray source and the accretion disk. This may be extended to any source of additional flux which may heat up the accretion disk, i.e. a magnetic recombination flare in plasma, an unstable jet base, etc. \n",
    "\n",
    "The function MakeTimeDelayMap allows for the creation of a time lag map from any point above the accretion disk to the midplane of the accretion disk. Geometries beyond a flat disk cannot be handled by Sim5 which is used for geodesic tracing around the central black hole, but this is a planned area of future work.\n",
    "\n",
    "The arguments are as follows:\n",
    "\n",
    "disk is the accretion disk temperature map\n",
    "\n",
    "inc_ang is the inclination angle\n",
    "\n",
    "massquasar is the mass of the central black hole\n",
    "\n",
    "redshift is the source redshift\n",
    "\n",
    "diskres is the resolution of the disk, if a file is put in as opposed to the disk itself\n",
    "\n",
    "numGRs is the number of gravitational radii the disk has along an edge\n",
    "\n",
    "coronaheight is the height of the lamp post (or other flaring driving object) in gravitational radii\n",
    "\n",
    "axisoffset is the number of gravitational radii off the axis of symmetry where the lamp post / flare occurs\n",
    "\n",
    "angleoffset is a degree measure which the axisoffset gets rotated (e.g. r, phi coords)\n",
    "\n",
    "unit determines the time scales measured in\n",
    "\n",
    "jitters is a term which, if left true, allows for the calculation to any random point in the pixel instead of calculations being grid-spaced. This helps smooth constructed transfer functions. However, this should be set to \"False\" for the creation of isodelay surfaces."
   ]
  },
  {
   "cell_type": "code",
   "execution_count": null,
   "id": "25d49349",
   "metadata": {},
   "outputs": [],
   "source": [
    "time_delays = QMF.MakeTimeDelayMap(temp_map, 0, redshift=0, numGRs=2000, coronaheight=5, \n",
    "                                  axisoffset=50, angleoffset=0, jitters=False)\n",
    "x = np.linspace(-1000, 1000, 2001)\n",
    "y = np.linspace(-1000, 1000, 2001)\n",
    "X, Y = np.meshgrid(x, y)\n",
    "fig, ax = plt.subplots(figsize=(8,8))\n",
    "ax.contourf(X, Y, temp_map)\n",
    "delays = ax.contour(X, Y, time_delays, colors='white')\n",
    "plt.clabel(delays, inline=1, fontsize=16)\n",
    "plt.show()"
   ]
  },
  {
   "cell_type": "markdown",
   "id": "82a370e9",
   "metadata": {},
   "source": [
    "specifying the redshift is important because all time scales, including these time delays, will get scaled."
   ]
  },
  {
   "cell_type": "markdown",
   "id": "114e7016",
   "metadata": {},
   "source": [
    "ConstructGeometricDiskFactor is a function which calculates the geometric coefficient in the lamp post model. If we assume the same functional form which connects the lamp post to the heating of the disk, this term can be extended to be used with any other flaring event beyond the lamp post model including those described in the time delay map description above.\n",
    "\n",
    "This function takes the following arguments:\n",
    "\n",
    "disk is the accretion disk temperature map\n",
    "\n",
    "inc_ang is the inclination angle with respect to the observer (used for vectorization, but not explicitly used in the calculation of values)\n",
    "\n",
    "massquasar is the mass of the quasar in kg\n",
    "\n",
    "coronaheight is the position of the source calculated from on the z axis, in units gravitational radii\n",
    "\n",
    "axisoffset is the offset of the axis of symmetry in units gravitational radii\n",
    "\n",
    "angleoffset is the angular rotation of the source position\n",
    "\n",
    "numGRs is the number of gravitational radii the accretion disk image is\n",
    "\n",
    "albedo is the reflectivity of the disk, where 0 is perfect absorption and 1 is perfect reflection\n"
   ]
  },
  {
   "cell_type": "code",
   "execution_count": null,
   "id": "be6d9260",
   "metadata": {},
   "outputs": [],
   "source": [
    "disk_factor = QMF.ConstructGeometricDiskFactor(temp_map, 0, mass, 5, numGRs=2000, \n",
    "                                  axisoffset=50, angleoffset=0)\n",
    "fig, ax = plt.subplots(figsize=(8,8))\n",
    "conts = ax.contourf(X, Y, np.log10(disk_factor))\n",
    "cbar = plt.colorbar(conts, ax=ax, label=r\"log$_{10}$ Geo. factor\")\n",
    "ax.set_aspect(1)\n",
    "plt.show()"
   ]
  },
  {
   "cell_type": "markdown",
   "id": "f216e90e",
   "metadata": {},
   "source": [
    "For the case of the lamp post illuminator, the geometric factor above scales the x-ray luminosity. Under the assumption any other illuminator acts the same way, the geometric factor should remain identical and this can be used at any other position."
   ]
  },
  {
   "cell_type": "markdown",
   "id": "21bc40fe",
   "metadata": {},
   "source": [
    "The function \"MakeDTDLx\" calculates the rate of change in temperature with respect to illumination from the x-ray source\n",
    "\n",
    "its arguments are:\n",
    "\n",
    "disk_der, the derivative of Planck's law with respect to temperature mapped to the accretion disk. \n",
    "\n",
    "temp_map, the map of the temperature of the accretion disk\n",
    "\n",
    "inc_ang, the inclination angle of the disk\n",
    "\n",
    "massquasar, the mass of the central black hole\n",
    "\n",
    "coronaheight, the (z) position of the illuminating object in gravitational radii\n",
    "\n",
    "axisoffset/angleoffset, the (r, phi) position of the illuminating source in gravitational radii and degrees\n",
    "\n"
   ]
  },
  {
   "cell_type": "code",
   "execution_count": null,
   "id": "6c0c60cb",
   "metadata": {},
   "outputs": [],
   "source": [
    "lam = 500\n",
    "disk_deriv = QMF.PlanckDerivative(temp_map, lam)\n",
    "\n",
    "fig, ax = plt.subplots(figsize=(8,8))\n",
    "conts = ax.contourf(disk_deriv)\n",
    "plt.colorbar(conts, ax=ax, label=\"spectral response [W sr$^{-1}$ m$^{-3}$ K$^{-1}$]\")\n",
    "ax.set_aspect(1)\n",
    "plt.show()"
   ]
  },
  {
   "cell_type": "markdown",
   "id": "a7cd61fe",
   "metadata": {},
   "source": [
    "These values look high, but the geometric factor hasn't been taken into account yet, nor the power of the illuminating source."
   ]
  },
  {
   "cell_type": "markdown",
   "id": "9b30aaee",
   "metadata": {},
   "source": [
    "Combining all of the above, we can construct the transfer function which connects the driving source to the accretion disk's response. This is the kernel between some impulse at a position above the disk and the disk's response, and is wavelength dependent.\n",
    "\n",
    "ConstructDiskTransferFunction has the following arguments:\n",
    "\n",
    "image_der_f, the derivative of the Planck function with respect to temperature at some wavelength\n",
    "\n",
    "temp_map, a map of the temperature of the accretion disk\n",
    "\n",
    "inc_ang, the inclination angle of the disk\n",
    "\n",
    "massquasar, the mass of the central black hole\n",
    "\n",
    "redshift, the redshift of the source\n",
    "\n",
    "coronaheight, the z position of the source in gravitational radii\n",
    "\n",
    "maxlengthoverride, the maximum time units the transfer function will be calculated out to\n",
    "\n",
    "units, the units of the time axis of the transfer function\n",
    "\n",
    "axisoffset/angleoffset, the (r, phi) position of the source with respect to the axis of symmetry\n",
    "\n",
    "numGRs, the number of gravitational radii the accretion disk image has\n",
    "\n",
    "albedo, the reflectivity of the accretion disk. 0 is perfect absorption, while 1 is perfect reflection.\n",
    "\n",
    "smooth, a toggle to apply a smoothing kernel to the transfer function to help remove artifacts from pixelation of the source\n",
    "\n",
    "fixedwindowlength, an override for the size of the smoothing kernel. If left \"None\", a size will be determined."
   ]
  },
  {
   "cell_type": "code",
   "execution_count": null,
   "id": "af0eae9b",
   "metadata": {},
   "outputs": [],
   "source": [
    "cheight = 20\n",
    "\n",
    "basic_transfer_function = QMF.ConstructDiskTransferFunction(disk_deriv, temp_map, 0, mass, 0, cheight, smooth=False, numGRs=2000)\n",
    "\n",
    "fig, ax = plt.subplots(figsize=(10, 6))\n",
    "ax.plot(basic_transfer_function)\n",
    "ax.set_xlabel(r\"$\\tau$ [hours]\")\n",
    "ax.set_ylabel(r\"$\\Psi$ [Arb.]\")\n",
    "plt.show()"
   ]
  },
  {
   "cell_type": "markdown",
   "id": "b32e832c",
   "metadata": {},
   "source": [
    "The transfer function generally features an initial time lag, which depends on how far light must travel down to the accretion disk before being reprocessed and coming back to the observer. Then this is followed by a steep rise when the source is on the central axis. It generally trails off slowly, and sometimes may be truncated due to the disk not being calculated to infinity.\n",
    "\n",
    "Inclined accretion disks tend to have skewed transfer functions, and the midpoint may change if the source height is significantly above the disk. For sources approximately on the same level of the disk, the mean time lag will not be effected by orientation."
   ]
  },
  {
   "cell_type": "markdown",
   "id": "27935e08",
   "metadata": {},
   "source": [
    "The \"MicrolensedResponse\" function essentially combines the creation of a transfer function with the amplified response due to a static microlensing map. It has the following arguments:\n",
    "\n",
    "MagMap, the magnification map due to microlensing\n",
    "\n",
    "AccDisk, an Amoeba accretion disk object (we have not gotten to classes yet, more to come at bottom!)\n",
    "\n",
    "wavelength, the wavelength which the transfer function will be evaluated at\n",
    "\n",
    "coronaheight, the z position of the illuminating source\n",
    "\n",
    "rotation, a rotation in degrees on the source plane. Not important for symmetric accretion disks, but can be impactful for inclined disks.\n",
    "\n",
    "x_position/y_position, the (x, y) position of the disk on the magnification map\n",
    "\n",
    "axisoffset/angleoffset, the (r, phi) position of the illuminating source with respect to the axis of symmetry above the accretion disk\n",
    "\n",
    "unit, the time units for calculating the magnified transfer function\n",
    "\n",
    "smooth, boolean determining if a smoothing kernel will be used on the transfer function\n",
    "\n",
    "returnmaps, boolean which toggles the output to be the time delays, response map, and positions on the magnification map for True, or just the transfer function for False."
   ]
  },
  {
   "cell_type": "markdown",
   "id": "4159fe29",
   "metadata": {},
   "source": [
    "To show how this is used, we must create an accretion disk object. This class holds everything related to the disk and combines the above functions into something significantly more useful. We will start by creating the FlatDisk object. It is named such simply because it is assumed to exist on the equitorial plane, the temperature profile may arbitrarily differ from the Shakura-Sunyaev disk."
   ]
  },
  {
   "cell_type": "code",
   "execution_count": null,
   "id": "7775a901",
   "metadata": {},
   "outputs": [],
   "source": [
    "AccretionDisk = Amoeba.FlatDisk(8.0, 0.1, 1000, 0, cheight, temp_map, \n",
    "                                np.zeros(np.shape(temp_map)), np.ones(np.shape(temp_map)),\n",
    "                               radii)\n",
    "MagMap = Amoeba.MagnificationMap(0.1, 0.05, mag_map, 0.3, 0.3, ismagmap=True)"
   ]
  },
  {
   "cell_type": "markdown",
   "id": "bf4239d2",
   "metadata": {},
   "source": [
    "With this object (which will be described soon), we can look at the MicrolensedResponse function."
   ]
  },
  {
   "cell_type": "code",
   "execution_count": null,
   "id": "62a7d56a",
   "metadata": {},
   "outputs": [],
   "source": [
    "seednum = 16\n",
    "wavelength=500\n",
    "cheight=20\n",
    "np.random.seed(seednum) #Reproducibility between returning maps and transfer function\n",
    "\n",
    "delays, mag_response, x_po, y_po = MagMap.GenerateMicrolensedResponse(AccretionDisk, \n",
    "                                wavelength, coronaheight=cheight, returnmaps=True)\n",
    "np.random.seed(seednum)\n",
    "mag_tf = MagMap.GenerateMicrolensedResponse(AccretionDisk, \n",
    "                                wavelength, coronaheight=cheight, smooth=True)\n",
    "\n",
    "x = np.linspace(0, 25, 10000)\n",
    "y = np.linspace(0, 25, 10000)\n",
    "X, Y = np.meshgrid(x, y, indexing='ij')\n",
    "\n",
    "fig, ax = plt.subplots(1,2, figsize=(12, 4))\n",
    "ax[0].contourf(X, Y, MagMap.mag_map, cmap='plasma')\n",
    "ax[0].plot(x_po/400, y_po/400, \"o\", color='white')\n",
    "ax[0].set_xlabel(r\"x [R$_{\\rm E}$]\")\n",
    "ax[0].set_ylabel(r\"y [R$_{\\rm E}$]\")\n",
    "ax[0].set_aspect(1)\n",
    "\n",
    "ax[1].plot(mag_tf)\n",
    "ax[1].plot(basic_transfer_function)\n",
    "ax[1].set_xlabel(r\"$\\tau$ [hours]\")\n",
    "ax[1].set_ylabel(r\"$\\Psi$ [arb.]\")\n",
    "plt.show()\n"
   ]
  },
  {
   "cell_type": "markdown",
   "id": "1f76b36c",
   "metadata": {},
   "source": [
    "Here, the left plot shows the magnification map with a white dot located where the transfer function is calculated at. In right is the response in blue, with the unmicrolensed case in orange. Microlensing may have a significant impact. Normally the impact is not as great as this."
   ]
  },
  {
   "cell_type": "markdown",
   "id": "0aa7f317",
   "metadata": {},
   "source": [
    "The next couple functions are a few conveinence functions, MakeDRW creates a generic damped random walk signal given parameters:\n",
    "\n",
    "t_max, the maximum time we calculate to\n",
    "\n",
    "delta_t, the time step between points\n",
    "\n",
    "SF_inf, the asymptotic structure function value\n",
    "\n",
    "tau, the characteristic time scale"
   ]
  },
  {
   "cell_type": "code",
   "execution_count": null,
   "id": "ab5cf561",
   "metadata": {},
   "outputs": [],
   "source": [
    "t_max = 10 # years, by default\n",
    "delta_t = 1 # days, by default\n",
    "SF_inf = 20\n",
    "tau = 30 # Days, by default\n",
    "np.random.seed(3)\n",
    "\n",
    "DRW = QMF.MakeDRW(t_max, delta_t, SF_inf, tau)\n",
    "DRW2 = QMF.MakeDRW(t_max, delta_t, SF_inf, tau*4)\n",
    "fig, ax = plt.subplots(figsize=(10, 6))\n",
    "ax.plot(DRW)\n",
    "ax.plot(DRW2)\n",
    "ax.set_xlabel(\"Time [days]\")\n",
    "ax.set_ylabel(\"DRW [arb.]\")\n",
    "plt.show()"
   ]
  },
  {
   "cell_type": "markdown",
   "id": "d7ad05da",
   "metadata": {},
   "source": [
    "The function Correlate takes one to two light curves in.\n",
    "\n",
    "With one light curve, it will calculate the autocorrelation of the light curve.\n",
    "\n",
    "With two light curves, the correlation will be computed.\n",
    "\n",
    "If the light curves are not correlated greater than the noise level, more than two roots may be found and an error will occur. In this case, the function cannot find a correlation."
   ]
  },
  {
   "cell_type": "code",
   "execution_count": null,
   "id": "c4367bde",
   "metadata": {},
   "outputs": [],
   "source": [
    "lag1, corr1, fwhm1, peak1 = QMF.Correlate(DRW)\n",
    "lag2, corr2, fwhm2, peak2 = QMF.Correlate(DRW2)\n",
    "axis = np.linspace(-len(DRW), len(DRW), len(corr1))\n",
    "\n",
    "fig, ax = plt.subplots(2, figsize=(10,10))\n",
    "ax[0].plot(axis, corr1)\n",
    "ax[1].plot(axis, corr2)\n",
    "ax[1].set_xlabel(r\"$\\tau$\")\n",
    "fig.supylabel(\"correlation [arb.]\", fontsize=24)\n",
    "fig.subplots_adjust(left=0.2)\n",
    "plt.show()\n",
    "\n"
   ]
  },
  {
   "cell_type": "markdown",
   "id": "86724161",
   "metadata": {},
   "source": [
    "Let's create a second signal which is really just a shifted section of one signal to show that lags may be determined using this"
   ]
  },
  {
   "cell_type": "code",
   "execution_count": null,
   "id": "e3c49f3f",
   "metadata": {},
   "outputs": [],
   "source": [
    "maxindex = 2600\n",
    "print(\"original signal is\",len(DRW),\"time steps\")\n",
    "\n",
    "signal1 = DRW[:maxindex]\n",
    "signal2 = DRW[-maxindex:]\n",
    "print(\"the new signals are\", len(signal1), \"and\", len(signal2),\"time steps\")\n",
    "print(\"the overlap between signals is \", str(max(0, len(DRW) - 2*(len(DRW)-len(signal1)))), \"time steps\")\n",
    "\n",
    "lag1, corr1, fwhm1, peak1 = QMF.Correlate(signal1, LightCurve2 = signal2)\n",
    "\n",
    "times = np.linspace(0, len(corr1)//2, len(corr1)//2+1)\n",
    "\n",
    "fig, ax = plt.subplots(2, figsize=(10,8))\n",
    "ax[0].plot(signal1)\n",
    "ax[0].plot(signal2)\n",
    "ax[1].plot(times, corr1[len(corr1)//2:])\n",
    "ax[1].set_xlabel(r\"$\\tau$\")\n",
    "ax[1].set_ylabel(\"correlation [arb.]\")\n",
    "ax[0].set_ylabel(\"DRW amplitude\")\n",
    "plt.show()"
   ]
  },
  {
   "cell_type": "markdown",
   "id": "6ffdde27",
   "metadata": {},
   "source": [
    "We can see that we cut off ~ 1,000 time steps from DRW when we made signals 1 and 2, but correlation could easily find their overlap"
   ]
  },
  {
   "cell_type": "markdown",
   "id": "57a9ba39",
   "metadata": {},
   "source": [
    "The final two functions are convenience functions used within some mapping functions internally. They are used to convert between Cartesian and Polar coordinate systems."
   ]
  },
  {
   "cell_type": "markdown",
   "id": "6ca9c61c",
   "metadata": {},
   "source": [
    "# Now we can go through features of the classes"
   ]
  },
  {
   "cell_type": "markdown",
   "id": "5b6127aa",
   "metadata": {},
   "source": [
    "## Disk"
   ]
  },
  {
   "cell_type": "markdown",
   "id": "d601a836",
   "metadata": {},
   "source": [
    "Our FlatDisk object is the current supported accretion disk model. Plans to extend this to arbitrarily puffy disks will be acted upon in the future. If Sim5 is installed, a helper function to create all maps through ray tracing around the central black hole is included in QMF, where the outputs may be fed directly into the FlatDisk object.\n",
    "\n",
    "We will go through the arguments for this helper function:\n",
    "\n",
    "mass_exp, log_10(M_BH/M_sun)\n",
    "\n",
    "redshift, source redshift\n",
    "\n",
    "numGRs, number of gravitational radii to calculate the accretion disk out to RADIALLY\n",
    "\n",
    "inc_ang, the inclination angle of the disk in degrees\n",
    "\n",
    "resolution, the amount of pixels used in calculating the images along each axis\n",
    "\n",
    "spin, the dimensionless spin parameter of the central black hole\n",
    "\n",
    "disk_acc, the amount of material accreted\n",
    "\n",
    "temp_beta, the strength of the disk wind (or asymptotic temperature slope if genericbeta is True)\n",
    "\n",
    "coronaheight, the z position of the irradiating corona in gravitational radii\n",
    "\n",
    "albedo, the reflectivity of the disk with respect to the x-ray heating source. 0 is perfect absorption, while 1 is perfect reflection (therefore, no contribution)\n",
    "\n",
    "eta, the x-ray source efficiency coefficient. Determines how strong the illuminating source is with respect to the bolometric luminosity.\n",
    "\n",
    "genericbeta, a toggle to use if you want temp_beta to represent the asymptotic temperature slope\n",
    "\n",
    "eddingtons, if given as a fraction, the required accretion rate will be calculated to meet this eddington ratio and used instead of the default value for disk_acc.\n",
    "\n"
   ]
  },
  {
   "cell_type": "markdown",
   "id": "3fda30c9",
   "metadata": {},
   "source": [
    "Ray tracing may be time consuming, and is known to be the longest part of the simulation process. We therefore defer using this function right now and opt to use a pre-traced file: Sim5ThinDisk8.0Msun0Spin40Inc.fits."
   ]
  },
  {
   "cell_type": "code",
   "execution_count": null,
   "id": "8191d58f",
   "metadata": {},
   "outputs": [],
   "source": [
    "filepath = example_disk_path  #path to fits file\n",
    "with fits.open(filepath) as f:\n",
    "    m1 = f[0].data\n",
    "    m2 = f[1].data\n",
    "    m3 = f[2].data\n",
    "    m4 = f[3].data\n",
    "\n",
    "f[0].header\n",
    "mexp = f[0].header['mass']\n",
    "zq = f[0].header['zq']\n",
    "spin = f[0].header['spin']\n",
    "inc_ang = f[0].header['inc_ang']\n",
    "c_height = f[0].header['c_height']\n",
    "beta = f[0].header['beta']\n",
    "numGRs = 1000\n",
    "\n",
    "AccDisk = Amoeba.FlatDisk(mexp, zq, numGRs, inc_ang, c_height, m1, m2, m3, m4, spin=spin)\n",
    "\n"
   ]
  },
  {
   "cell_type": "markdown",
   "id": "0d7c1af0",
   "metadata": {},
   "source": [
    "Now that a proper accretion disk is loaded in memory, we can do things more simply. Let's make the surface intensity map with the method \"MakeSurfaceIntensityMap\".\n",
    "\n",
    "We require an argument of the wavelength.\n",
    "\n",
    "Additionally, toggling returnwavelengths to True will give a map of the locally emitted wavelengths which get shifted into the observers wavelength."
   ]
  },
  {
   "cell_type": "code",
   "execution_count": null,
   "id": "9a7a08e5",
   "metadata": {},
   "outputs": [],
   "source": [
    "wavelen = 1000\n",
    "intensities, wavelengths = AccDisk.MakeSurfaceIntensityMap(wavelen, returnwavelengths=True)\n",
    "size = 200\n",
    "center=500\n",
    "\n",
    "xaxis = np.linspace(-1000, 1000, 1000)\n",
    "yaxis = xaxis.copy()\n",
    "zoomaxis = np.linspace(-size, size, 2*size)\n",
    "X, Y = np.meshgrid(xaxis, yaxis)\n",
    "Xzoom, Yzoom = np.meshgrid(zoomaxis, zoomaxis)\n",
    "fig, ax = plt.subplots(1, 2, figsize=(16,6))\n",
    "c1 = ax[0].contourf(Xzoom, Yzoom, intensities[center-size:center+size, center-size:center+size])\n",
    "c2 = ax[1].contourf(X, Y, wavelengths, 50,cmap='RdBu')\n",
    "ax[0].set_aspect(1)\n",
    "ax[1].set_aspect(1)\n",
    "plt.colorbar(c1, ax=ax[0], label=\"Surface flux density\\n \"+r\"[W sr$^{-1}$ m$^{-3}$]\")\n",
    "plt.colorbar(c2, ax=ax[1], label=r\"$\\lambda$ [nm]\")\n",
    "ax[0].set_xlabel(r\"x [$R_{g}$]\")\n",
    "ax[1].set_xlabel(r\"x [$R_{g}$]\")\n",
    "ax[0].set_ylabel(r\"y [$R_{g}$]\")\n",
    "ax[1].set_ylabel(r\"y [$R_{g}$]\")\n",
    "plt.subplots_adjust(wspace=0.5)\n",
    "plt.show()"
   ]
  },
  {
   "cell_type": "markdown",
   "id": "75104563",
   "metadata": {},
   "source": [
    "In the first plot, we have zoomed in to highlight the asymmetry. In the second plot, we show the wavelengths across the disk which get shifted into the observed wavelength.\n",
    "\n",
    "It is shown that a surface intensity map can be asymmetric especially near the black hole, and the calculated wavelengths are non-trivial across the whole map."
   ]
  },
  {
   "cell_type": "markdown",
   "id": "756e0c2f",
   "metadata": {},
   "source": [
    "The methods MakeDBDTMap, MakeTimeDelayMap, and MakeDTDLxMap are more straight-forward ways to run the functions that construct the transfer function which we saw earlier. Arguments are fewer, as many are passed in directly from the initialization of the object. Many initialized values can still be overridden.\n",
    "\n",
    "We can look at ConstructDiskTransferFunction next, which combines the above methods that were just glossed over. Arguments are:\n",
    "\n",
    "wavelength, the wavelength in the observers frame of reference in nanometers\n",
    "\n",
    "coronaheight, if a different lamp post is desired, this is the z position of the irradiating source.\n",
    "\n",
    "axisoffset/angleoffset is the (r, phi) position of this irradiating source\n",
    "\n",
    "maxlengthoverride, a tool to predetermine the longest time lag you calculae out to\n",
    "\n",
    "units, the units of the time lag axis on the constructed transfer function\n",
    "\n",
    "albedo, reflectivity of the accretion disk. \n",
    "\n",
    "smooth, toggle to use a smoothing kernel on the transfer function or not\n",
    "\n",
    "fixedwindowlength, user specified smoothing kernel size, otherwise it will be determined automatically"
   ]
  },
  {
   "cell_type": "code",
   "execution_count": null,
   "id": "460a3d0d",
   "metadata": {},
   "outputs": [],
   "source": [
    "wavelen1 = 500\n",
    "wavelen2 = 700\n",
    "wavelen3 = 900\n",
    "wavelen4 = 1100\n",
    "\n",
    "transfer_function1 = AccDisk.ConstructDiskTransferFunction(wavelen1)\n",
    "transfer_function2 = AccDisk.ConstructDiskTransferFunction(wavelen2)\n",
    "transfer_function3 = AccDisk.ConstructDiskTransferFunction(wavelen3)\n",
    "transfer_function4 = AccDisk.ConstructDiskTransferFunction(wavelen4)\n",
    "\n",
    "mean1 = np.sum(np.linspace(0, len(transfer_function1), len(transfer_function1)) * transfer_function1)\n",
    "mean2 = np.sum(np.linspace(0, len(transfer_function2), len(transfer_function2)) * transfer_function2)\n",
    "mean3 = np.sum(np.linspace(0, len(transfer_function3), len(transfer_function3)) * transfer_function3)\n",
    "mean4 = np.sum(np.linspace(0, len(transfer_function4), len(transfer_function4)) * transfer_function4)\n",
    "\n",
    "fig, ax = plt.subplots(figsize = (10,6))\n",
    "ax.plot(transfer_function1, label=r\"$\\lambda_{1}$ = \"+str(wavelen1)+\" nm\")\n",
    "ax.plot(transfer_function2, label=r\"$\\lambda_{2}$ = \"+str(wavelen2)+\" nm\")\n",
    "ax.plot(transfer_function3, label=r\"$\\lambda_{3}$ = \"+str(wavelen3)+\" nm\")\n",
    "ax.plot(transfer_function4, label=r\"$\\lambda_{4}$ = \"+str(wavelen4)+\" nm\")\n",
    "\n",
    "ax.text(0.2 * len(transfer_function1), 0.9 * np.max(transfer_function1), r\"$\\bar{\\tau}_{1}$ = \"+str(mean1)[:4]+\" hours\", fontsize=16)\n",
    "ax.text(0.2 * len(transfer_function1), 0.85 * np.max(transfer_function1), r\"$\\bar{\\tau}_{2}$ = \"+str(mean2)[:4]+\" hours\", fontsize=16)\n",
    "ax.text(0.2 * len(transfer_function1), 0.8 * np.max(transfer_function1), r\"$\\bar{\\tau}_{3}$ = \"+str(mean3)[:4]+\" hours\", fontsize=16)\n",
    "ax.text(0.2 * len(transfer_function1), 0.75 * np.max(transfer_function1), r\"$\\bar{\\tau}_{4}$ = \"+str(mean4)[:4]+\" hours\", fontsize=16)\n",
    "\n",
    "ax.legend()\n",
    "ax.set_xlabel(r\"$\\tau$ [hours]\")\n",
    "ax.set_ylabel(r\"$\\Psi$ [Arb.]\")\n",
    "\n",
    "plt.show()"
   ]
  },
  {
   "cell_type": "markdown",
   "id": "5c56201e",
   "metadata": {},
   "source": [
    "We have plotted here the derived transfer functions for four wavelengths, and the mean time delays.\n",
    "\n",
    "Longer wavelengths will generally have wider transfer functions and therefore longer mean time lags as expected."
   ]
  },
  {
   "cell_type": "markdown",
   "id": "d4639a5c",
   "metadata": {},
   "source": [
    "## Magnification Map"
   ]
  },
  {
   "cell_type": "markdown",
   "id": "69be549b",
   "metadata": {},
   "source": [
    "The MagnificationMap object is used to store and use a magnification map due to microlensing. In creating this object, the following arguments are needed:\n",
    "\n",
    "redshift_quasar, the redshift of the source\n",
    "\n",
    "redshift_lens, the redshift of the microlenses (which must be less than the redshift of the source)\n",
    "\n",
    "file_name, the file which contains the magnification map. This can be a .fits file or a .dat, or a numpy array of values. If downloaded from the GERLUMPH database, it will come as a .dat file, which will be converted into a ray map of appropriate size. It's recommended to store this as a .fits file for future use to speed up the conversion process. Amoeba assumes this file will be ray counts per pixel, so a conversion to magnification will occur next.\n",
    "\n",
    "convergence, the total convergence of the microlensing map (Kappa)\n",
    "\n",
    "shear, the shear of the microlensing map (Gamma)\n",
    "\n",
    "m_lens, the assumed average microlens mass\n",
    "\n",
    "n_einstein, the number of Einstein radii along each side of the magnification map. A square map is assumed.\n",
    "\n",
    "Om0, OmL, H0: the cosmological parameters of the flat LambdaCDM model\n",
    "\n",
    "ismagmap, a toggle to tell Amoeba that the input map is actually an array of magnifications instead of ray counts. This stops the conversion of ray counts to magnification values.\n",
    "\n",
    "name, a name space\n"
   ]
  },
  {
   "cell_type": "code",
   "execution_count": null,
   "id": "8238fbc5",
   "metadata": {},
   "outputs": [],
   "source": [
    "mag_map_path = example_mag_map_path\n",
    "\n",
    "with fits.open(mag_map_path) as f:\n",
    "    mag_map = f[0].data\n",
    "\n",
    "MagMap = Amoeba.MagnificationMap(0.1, 0.05, mag_map, 0.3, 0.3, ismagmap=True)"
   ]
  },
  {
   "cell_type": "markdown",
   "id": "fa619e54",
   "metadata": {},
   "source": [
    "The magnification map of the MagnificationMap object can be referenced directly by MagnificationMap.mag_map\n",
    "\n",
    "The pixel size is stored as MagnificationMap.px_size\n",
    "\n",
    "\n",
    "\n",
    "One primary method used will be Convolve, which calculates the convolution of an accretion disk with the magnification map. It takes the following arguments:\n",
    "\n",
    "Disk, the accretion disk object\n",
    "\n",
    "obs_wavelength, the observed wavelength. This value gets redshifted to the local wavelength at the source plane, then the surface brightness map is calculated for that wavelength (which further considers Doppler shifting and gravitational redshift).\n",
    "\n",
    "rotation, a degree rotation in the source plane\n",
    "\n",
    "This convolution can be stored in the object ConvolvedMap, to facilitate creating microlensing light curves"
   ]
  },
  {
   "cell_type": "code",
   "execution_count": null,
   "id": "0749d690",
   "metadata": {},
   "outputs": [],
   "source": [
    "filepath = example_disk_path  #path to fits file\n",
    "with fits.open(filepath) as f:\n",
    "    m1 = f[0].data\n",
    "    m2 = f[1].data\n",
    "    m3 = f[2].data\n",
    "    m4 = f[3].data\n",
    "\n",
    "f[0].header\n",
    "mexp = f[0].header['mass']\n",
    "zq = f[0].header['zq']\n",
    "spin = f[0].header['spin']\n",
    "inc_ang = f[0].header['inc_ang']\n",
    "c_height = f[0].header['c_height']\n",
    "beta = f[0].header['beta']\n",
    "numGRs = 1000\n",
    "\n",
    "AccDisk = Amoeba.FlatDisk(mexp, zq, numGRs, inc_ang, c_height, m1, m2, m3, m4, spin=spin)"
   ]
  },
  {
   "cell_type": "code",
   "execution_count": null,
   "id": "2c7a793b",
   "metadata": {},
   "outputs": [],
   "source": [
    "convolution, px_size, px_shift = MagMap.Convolve(AccDisk, 500)\n",
    "Conv_Map = Amoeba.ConvolvedMap(MagMap, AccDisk, 500)\n",
    "\n",
    "fig, ax = plt.subplots(1,2, figsize=(14,6))\n",
    "\n",
    "contours1 = ax[0].contourf(convolution)\n",
    "contours2 = ax[1].contourf(Conv_Map.mag_map)\n",
    "plt.colorbar(contours1, ax=ax[0])\n",
    "plt.colorbar(contours2, ax=ax[1])\n",
    "ax[0].set_aspect(1)\n",
    "ax[1].set_aspect(1)\n",
    "ax[0].set_xlabel(r\"x [px]\")\n",
    "ax[1].set_xlabel(r\"x [px]\")\n",
    "ax[0].set_ylabel(r\"y [px]\")\n",
    "plt.show()"
   ]
  },
  {
   "cell_type": "markdown",
   "id": "8c9315ce",
   "metadata": {},
   "source": [
    "There is no notable difference between the two, however the pixel shift is stored within the ConvolvedMap. This value is inportant for accurately pulling light curves!"
   ]
  },
  {
   "cell_type": "code",
   "execution_count": null,
   "id": "7caceed0",
   "metadata": {},
   "outputs": [],
   "source": [
    "print(MagMap.px_shift)\n",
    "print(px_shift)\n",
    "print(Conv_Map.px_shift)"
   ]
  },
  {
   "cell_type": "markdown",
   "id": "3d10888d",
   "metadata": {},
   "source": [
    "However, this also means the convolved map is now locked at a certain observed wavelength. \n",
    "\n",
    "ConvolvedMap is a child of MagnificationMap, so it has the PullValue and PullLightCurve methods.\n",
    "\n",
    "PullValue is generally not useful by itself, but PullLightCurve uses this method to extract the light curve. It has the following arguments:\n",
    "\n",
    "vtrans, the transverse velocity in the source plane. This is expressed as km/s, where typical values range up to ~500 km/s. Some special cases like the Einstein Cross (Q2237+0305) may have significantly higher transverse velocities.\n",
    "\n",
    "time, the length of the light curve measured in years\n",
    "\n",
    "x_start, y_start: the starting position of the light curve in pixels. If left as None, a random starting point will be selected such that it will not cross into the convolution artifacts found near the edges.\n",
    "\n",
    "phi_angle, the direction of travel in the source plane measured in degrees"
   ]
  },
  {
   "cell_type": "code",
   "execution_count": null,
   "id": "dfb8c90a",
   "metadata": {},
   "outputs": [],
   "source": [
    "x = 4000   # pixels\n",
    "y = 7000   # pixels\n",
    "phi = 72   # degrees\n",
    "vel = 400  # km/s\n",
    "time = 20  # years\n",
    "\n",
    "np.random.seed(21)\n",
    "\n",
    "LC_specified = Conv_Map.PullLightCurve(vel, time, x_start=x, y_start=y, phi_angle=phi)\n",
    "LC_random = Conv_Map.PullLightCurve(vel, time)\n",
    "\n",
    "fig, ax = plt.subplots(figsize=(10, 6))\n",
    "timeaxis = np.linspace(0, time, len(LC_random))\n",
    "ax.plot(timeaxis, LC_random/np.max(LC_random), label='random LC')\n",
    "ax.plot(timeaxis, LC_specified/np.max(LC_specified), label='specific LC')\n",
    "ax.set_xlabel(\"time [years]\")\n",
    "ax.set_ylabel(\"obs. flux [arb.]\")\n",
    "ax.legend()\n",
    "plt.show()"
   ]
  },
  {
   "cell_type": "markdown",
   "id": "c1165fbe",
   "metadata": {},
   "source": [
    "There are units involved in extracting these light curves, but the scaling depends on the size of the instrument used and the total size of the accretion disk image. It is safe to normalize them to use arbitrarily in studies."
   ]
  },
  {
   "cell_type": "markdown",
   "id": "3d3eea7b",
   "metadata": {},
   "source": [
    "The final method in the MagnificationMap object is GenerateMicrolensedResponse, which should be called with the MagnificationMap object only and not the ConvolvedMap (else there will be a double convolution). This method computes a microlensed transfer function using the QMF function MicrolensedResponse as was done previously.\n",
    "\n",
    "The GenerateMicrolensedResponse takes the following arguments:\n",
    "\n",
    "Disk, the accretion disk object\n",
    "\n",
    "wavelength, the observed wavelength\n",
    "\n",
    "coronaheight, the z position of the flaring lamp post which the transfer function will be constructed with respect to. If left \"None\", this will keep the lamp post position of the accretion disk object. Modeling other sources of irradiation can be done as well.\n",
    "\n",
    "rotation, the degree rotation on the source plane. This is sometimes refered to as the position angle on the microlensing map.\n",
    "\n",
    "x_position, y_position: the (x, y) coordinates in pixels on the magnification map. If left \"None\", this will randomly choose a spot which will remain fully on the magnification map, if possible.\n",
    "\n",
    "axisoffset, angleoffset: the (r, phi) position of the flaring lamp post with respect to the accretion disk's axis of symmetry, in units $R_{\\rm g}$ and degrees.\n",
    "\n",
    "unit, the time units of the transfer function\n",
    "\n",
    "smooth, toggle to use a smoothing kernel on the transfer function after it's calculated\n",
    "\n",
    "returnmaps, toggle to return the maps prior to calculating the transfer function"
   ]
  },
  {
   "cell_type": "code",
   "execution_count": null,
   "id": "a2332d6e",
   "metadata": {},
   "outputs": [],
   "source": [
    "wavelength = 500\n",
    "seednum = 40\n",
    "np.random.seed(seednum)\n",
    "TransferFunction = MagMap.GenerateMicrolensedResponse(AccDisk, wavelength)\n",
    "np.random.seed(seednum)\n",
    "TransferFunctionSmooth = MagMap.GenerateMicrolensedResponse(AccDisk, wavelength, smooth=True)\n",
    "\n",
    "fig, ax = plt.subplots(figsize=(10,6))\n",
    "ax.plot(TransferFunction, label=\"pre-smoothing\")\n",
    "ax.plot(TransferFunctionSmooth, label='post-smoothing')\n",
    "ax.set_xlabel(r\"$\\tau$ [hours]\")\n",
    "ax.set_ylabel(r\"$\\Psi$ [arb.]\")\n",
    "ax.legend()\n",
    "plt.show()"
   ]
  },
  {
   "cell_type": "markdown",
   "id": "eb95a095",
   "metadata": {},
   "source": [
    "Due to the finite size of the smoothing kernel and the abrupt start of the transfer function, it may appear to shift the peak very slightly. However, we can show this only has a minor effect on the mean value of $\\tau$."
   ]
  },
  {
   "cell_type": "code",
   "execution_count": null,
   "id": "a0127686",
   "metadata": {},
   "outputs": [],
   "source": [
    "meanTF = np.sum(np.linspace(0, len(TransferFunction), len(TransferFunction))*TransferFunction)\n",
    "meansmoothTF = np.sum(np.linspace(0, len(TransferFunctionSmooth), len(TransferFunctionSmooth))*TransferFunctionSmooth)\n",
    "\n",
    "print(r\"Without smoothing, tau_avg = \"+str(meanTF)[:5]+\" hours\")\n",
    "print(r\"With smoothing, tau_avg = \"+str(meansmoothTF)[:5]+\" hours\")"
   ]
  },
  {
   "cell_type": "markdown",
   "id": "76c2e539",
   "metadata": {},
   "source": [
    "This notebook will be extended as features are added, thank you for taking the time to try Amoeba out!"
   ]
  },
  {
   "cell_type": "code",
   "execution_count": null,
   "id": "4df7b38c",
   "metadata": {},
   "outputs": [],
   "source": []
  }
 ],
 "metadata": {
  "kernelspec": {
   "display_name": "Python 3",
   "language": "python",
   "name": "python3"
  },
  "language_info": {
   "codemirror_mode": {
    "name": "ipython",
    "version": 3
   },
   "file_extension": ".py",
   "mimetype": "text/x-python",
   "name": "python",
   "nbconvert_exporter": "python",
   "pygments_lexer": "ipython3",
   "version": "3.9.9"
  }
 },
 "nbformat": 4,
 "nbformat_minor": 5
}
